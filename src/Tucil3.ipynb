{
 "cells": [
  {
   "cell_type": "code",
   "execution_count": 3,
   "id": "wrapped-income",
   "metadata": {},
   "outputs": [],
   "source": [
    "from back_end import initialization, search_path, graph_type"
   ]
  },
  {
   "cell_type": "code",
   "execution_count": null,
   "id": "incident-cassette",
   "metadata": {},
   "outputs": [],
   "source": [
    "# -1 = use x y position\n",
    "# 0 = planar (default)\n",
    "# 1 = circular\n",
    "# 2 = spectral\n",
    "# 3 = spring\n",
    "# 4 = shell\n",
    "\n",
    "tipe = 0\n",
    "\n",
    "graph_type(tipe)"
   ]
  },
  {
   "cell_type": "code",
   "execution_count": null,
   "id": "serial-senator",
   "metadata": {},
   "outputs": [],
   "source": [
    "initialization()"
   ]
  },
  {
   "cell_type": "code",
   "execution_count": null,
   "id": "obvious-prospect",
   "metadata": {},
   "outputs": [],
   "source": [
    "search_path()"
   ]
  },
  {
   "cell_type": "code",
   "execution_count": null,
   "id": "tamil-remove",
   "metadata": {},
   "outputs": [],
   "source": []
  }
 ],
 "metadata": {
  "kernelspec": {
   "display_name": "Python 3",
   "language": "python",
   "name": "python3"
  },
  "language_info": {
   "codemirror_mode": {
    "name": "ipython",
    "version": 3
   },
   "file_extension": ".py",
   "mimetype": "text/x-python",
   "name": "python",
   "nbconvert_exporter": "python",
   "pygments_lexer": "ipython3",
   "version": "3.9.0"
  }
 },
 "nbformat": 4,
 "nbformat_minor": 5
}
